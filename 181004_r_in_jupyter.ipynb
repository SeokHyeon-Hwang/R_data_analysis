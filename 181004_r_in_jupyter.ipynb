{
 "cells": [
  {
   "cell_type": "markdown",
   "metadata": {},
   "source": [
    "# 로지스틱 회귀 분석 실습"
   ]
  },
  {
   "cell_type": "code",
   "execution_count": 8,
   "metadata": {},
   "outputs": [],
   "source": [
    "a<-1:3"
   ]
  },
  {
   "cell_type": "code",
   "execution_count": 6,
   "metadata": {},
   "outputs": [
    {
     "data": {
      "text/html": [
       "<table>\n",
       "<thead><tr><th scope=col>a</th><th scope=col>b</th></tr></thead>\n",
       "<tbody>\n",
       "\t<tr><td>1</td><td>a</td></tr>\n",
       "\t<tr><td>2</td><td>b</td></tr>\n",
       "\t<tr><td>3</td><td>c</td></tr>\n",
       "</tbody>\n",
       "</table>\n"
      ],
      "text/latex": [
       "\\begin{tabular}{r|ll}\n",
       " a & b\\\\\n",
       "\\hline\n",
       "\t 1 & a\\\\\n",
       "\t 2 & b\\\\\n",
       "\t 3 & c\\\\\n",
       "\\end{tabular}\n"
      ],
      "text/markdown": [
       "\n",
       "a | b | \n",
       "|---|---|---|\n",
       "| 1 | a | \n",
       "| 2 | b | \n",
       "| 3 | c | \n",
       "\n",
       "\n"
      ],
      "text/plain": [
       "  a b\n",
       "1 1 a\n",
       "2 2 b\n",
       "3 3 c"
      ]
     },
     "metadata": {},
     "output_type": "display_data"
    }
   ],
   "source": [
    "b<-c('a','b','c')\n",
    "df<-data.frame(a,b)\n",
    "df"
   ]
  },
  {
   "cell_type": "code",
   "execution_count": 7,
   "metadata": {},
   "outputs": [
    {
     "name": "stdout",
     "output_type": "stream",
     "text": [
      "package 'dplyr' successfully unpacked and MD5 sums checked\n",
      "\n",
      "The downloaded binary packages are in\n",
      "\tC:\\Users\\ktm\\AppData\\Local\\Temp\\RtmpGqMTIL\\downloaded_packages\n"
     ]
    }
   ],
   "source": [
    "install.packages('dplyr')"
   ]
  },
  {
   "cell_type": "code",
   "execution_count": 9,
   "metadata": {},
   "outputs": [],
   "source": [
    "# esc+a, esc+b, esc+x, esc+m, esp+y"
   ]
  },
  {
   "cell_type": "code",
   "execution_count": 10,
   "metadata": {},
   "outputs": [
    {
     "name": "stdout",
     "output_type": "stream",
     "text": [
      "package 'ggplot2' successfully unpacked and MD5 sums checked\n",
      "\n",
      "The downloaded binary packages are in\n",
      "\tC:\\Users\\ktm\\AppData\\Local\\Temp\\RtmpGqMTIL\\downloaded_packages\n"
     ]
    }
   ],
   "source": [
    "install.packages('ggplot2')"
   ]
  },
  {
   "cell_type": "code",
   "execution_count": 11,
   "metadata": {},
   "outputs": [
    {
     "data": {
      "image/png": "[encoded data removed]",
      "text/plain": [
       "plot without title"
      ]
     },
     "metadata": {},
     "output_type": "display_data"
    }
   ],
   "source": [
    "plot(df)"
   ]
  },
  {
   "cell_type": "code",
   "execution_count": 12,
   "metadata": {},
   "outputs": [
    {
     "data": {
      "image/png": "[encoded data removed]",
      "text/plain": [
       "plot without title"
      ]
     },
     "metadata": {},
     "output_type": "display_data"
    }
   ],
   "source": [
    "x<-c(-100:100)\n",
    "b<-0  # y절편\n",
    "m<-0.1  # slope\n",
    "y=exp(m+x)/(1+exp(m+x))  # 0과 1에 대한 분석을 할 때 사용하는 함수\n",
    "plot(x,y)"
   ]
  },
  {
   "cell_type": "code",
   "execution_count": 1,
   "metadata": {},
   "outputs": [
    {
     "data": {
      "text/html": [
       "<table>\n",
       "<thead><tr><th scope=col>temp</th><th scope=col>dog.panting</th></tr></thead>\n",
       "<tbody>\n",
       "\t<tr><td>10.0</td><td>0   </td></tr>\n",
       "\t<tr><td>13.2</td><td>0   </td></tr>\n",
       "\t<tr><td>12.1</td><td>0   </td></tr>\n",
       "\t<tr><td>15.0</td><td>0   </td></tr>\n",
       "\t<tr><td>17.0</td><td>0   </td></tr>\n",
       "\t<tr><td>18.0</td><td>1   </td></tr>\n",
       "\t<tr><td>15.0</td><td>0   </td></tr>\n",
       "\t<tr><td>14.9</td><td>1   </td></tr>\n",
       "\t<tr><td>16.0</td><td>0   </td></tr>\n",
       "\t<tr><td>19.0</td><td>0   </td></tr>\n",
       "\t<tr><td>21.0</td><td>1   </td></tr>\n",
       "\t<tr><td>22.0</td><td>1   </td></tr>\n",
       "\t<tr><td>24.5</td><td>1   </td></tr>\n",
       "\t<tr><td>28.0</td><td>1   </td></tr>\n",
       "\t<tr><td>27.0</td><td>0   </td></tr>\n",
       "\t<tr><td>20.1</td><td>1   </td></tr>\n",
       "\t<tr><td>25.6</td><td>0   </td></tr>\n",
       "\t<tr><td>27.2</td><td>1   </td></tr>\n",
       "\t<tr><td>29.0</td><td>1   </td></tr>\n",
       "\t<tr><td>28.2</td><td>1   </td></tr>\n",
       "</tbody>\n",
       "</table>\n"
      ],
      "text/latex": [
       "\\begin{tabular}{r|ll}\n",
       " temp & dog.panting\\\\\n",
       "\\hline\n",
       "\t 10.0 & 0   \\\\\n",
       "\t 13.2 & 0   \\\\\n",
       "\t 12.1 & 0   \\\\\n",
       "\t 15.0 & 0   \\\\\n",
       "\t 17.0 & 0   \\\\\n",
       "\t 18.0 & 1   \\\\\n",
       "\t 15.0 & 0   \\\\\n",
       "\t 14.9 & 1   \\\\\n",
       "\t 16.0 & 0   \\\\\n",
       "\t 19.0 & 0   \\\\\n",
       "\t 21.0 & 1   \\\\\n",
       "\t 22.0 & 1   \\\\\n",
       "\t 24.5 & 1   \\\\\n",
       "\t 28.0 & 1   \\\\\n",
       "\t 27.0 & 0   \\\\\n",
       "\t 20.1 & 1   \\\\\n",
       "\t 25.6 & 0   \\\\\n",
       "\t 27.2 & 1   \\\\\n",
       "\t 29.0 & 1   \\\\\n",
       "\t 28.2 & 1   \\\\\n",
       "\\end{tabular}\n"
      ],
      "text/markdown": [
       "\n",
       "temp | dog.panting | \n",
       "|---|---|---|---|---|---|---|---|---|---|---|---|---|---|---|---|---|---|---|---|\n",
       "| 10.0 | 0    | \n",
       "| 13.2 | 0    | \n",
       "| 12.1 | 0    | \n",
       "| 15.0 | 0    | \n",
       "| 17.0 | 0    | \n",
       "| 18.0 | 1    | \n",
       "| 15.0 | 0    | \n",
       "| 14.9 | 1    | \n",
       "| 16.0 | 0    | \n",
       "| 19.0 | 0    | \n",
       "| 21.0 | 1    | \n",
       "| 22.0 | 1    | \n",
       "| 24.5 | 1    | \n",
       "| 28.0 | 1    | \n",
       "| 27.0 | 0    | \n",
       "| 20.1 | 1    | \n",
       "| 25.6 | 0    | \n",
       "| 27.2 | 1    | \n",
       "| 29.0 | 1    | \n",
       "| 28.2 | 1    | \n",
       "\n",
       "\n"
      ],
      "text/plain": [
       "   temp dog.panting\n",
       "1  10.0 0          \n",
       "2  13.2 0          \n",
       "3  12.1 0          \n",
       "4  15.0 0          \n",
       "5  17.0 0          \n",
       "6  18.0 1          \n",
       "7  15.0 0          \n",
       "8  14.9 1          \n",
       "9  16.0 0          \n",
       "10 19.0 0          \n",
       "11 21.0 1          \n",
       "12 22.0 1          \n",
       "13 24.5 1          \n",
       "14 28.0 1          \n",
       "15 27.0 0          \n",
       "16 20.1 1          \n",
       "17 25.6 0          \n",
       "18 27.2 1          \n",
       "19 29.0 1          \n",
       "20 28.2 1          "
      ]
     },
     "metadata": {},
     "output_type": "display_data"
    }
   ],
   "source": [
    "temp <- c(10,13.2,12.1,15,17,18,15,14.9,16.0,19,\n",
    "21,22,24.5,28,27,20.1,25.6,27.2,29,28.2)\n",
    "dog.panting<-c(0,0,0,0,0,1,0,1,0,0,\n",
    "1,1,1,1,0,1,0,1,1,1)\n",
    "data <- data.frame(temp, dog.panting)\n",
    "data"
   ]
  },
  {
   "cell_type": "code",
   "execution_count": 3,
   "metadata": {},
   "outputs": [
    {
     "data": {
      "image/png": "[encoded data removed]",
      "text/plain": [
       "plot without title"
      ]
     },
     "metadata": {},
     "output_type": "display_data"
    }
   ],
   "source": [
    "plot(data)"
   ]
  },
  {
   "cell_type": "code",
   "execution_count": 4,
   "metadata": {},
   "outputs": [
    {
     "data": {
      "text/html": [
       "<ol class=list-inline>\n",
       "\t<li>20</li>\n",
       "\t<li>2</li>\n",
       "</ol>\n"
      ],
      "text/latex": [
       "\\begin{enumerate*}\n",
       "\\item 20\n",
       "\\item 2\n",
       "\\end{enumerate*}\n"
      ],
      "text/markdown": [
       "1. 20\n",
       "2. 2\n",
       "\n",
       "\n"
      ],
      "text/plain": [
       "[1] 20  2"
      ]
     },
     "metadata": {},
     "output_type": "display_data"
    },
    {
     "data": {
      "text/plain": [
       "      temp        dog.panting \n",
       " Min.   :10.00   Min.   :0.0  \n",
       " 1st Qu.:15.00   1st Qu.:0.0  \n",
       " Median :19.55   Median :0.5  \n",
       " Mean   :20.14   Mean   :0.5  \n",
       " 3rd Qu.:25.95   3rd Qu.:1.0  \n",
       " Max.   :29.00   Max.   :1.0  "
      ]
     },
     "metadata": {},
     "output_type": "display_data"
    },
    {
     "data": {
      "text/plain": [
       "\n",
       "Call:\n",
       "glm(formula = dog.panting ~ temp, family = \"binomial\", data = data)\n",
       "\n",
       "Deviance Residuals: \n",
       "     Min        1Q    Median        3Q       Max  \n",
       "-1.87261  -0.76187   0.02904   0.84385   1.69679  \n",
       "\n",
       "Coefficients:\n",
       "            Estimate Std. Error z value Pr(>|z|)  \n",
       "(Intercept)  -4.5334     2.1439  -2.115   0.0345 *\n",
       "temp          0.2258     0.1042   2.167   0.0302 *\n",
       "---\n",
       "Signif. codes:  0 '***' 0.001 '**' 0.01 '*' 0.05 '.' 0.1 ' ' 1\n",
       "\n",
       "(Dispersion parameter for binomial family taken to be 1)\n",
       "\n",
       "    Null deviance: 27.726  on 19  degrees of freedom\n",
       "Residual deviance: 21.339  on 18  degrees of freedom\n",
       "AIC: 25.339\n",
       "\n",
       "Number of Fisher Scoring iterations: 3\n"
      ]
     },
     "metadata": {},
     "output_type": "display_data"
    }
   ],
   "source": [
    "# 일반화 선형 모델\n",
    "# 예측하려는 값이 0과 1이거나 포아송 분포를 따르거나.\n",
    "\n",
    "model<-glm(dog.panting~temp, data=data,\n",
    "          family='binomial')\n",
    "dim(data)\n",
    "summary(data)\n",
    "summary(model)"
   ]
  },
  {
   "cell_type": "code",
   "execution_count": 5,
   "metadata": {},
   "outputs": [],
   "source": [
    "## number of fisher scoring iterations : 세번 돌렸다?\n",
    "x<-temp\n",
    "b<-model$coefficients[1]\n",
    "m<-model$coefficients[2]\n",
    "y=exp(b+m*x)/(1+exp(b+m*x))"
   ]
  },
  {
   "cell_type": "code",
   "execution_count": 7,
   "metadata": {},
   "outputs": [
    {
     "data": {
      "image/png": "[encoded data removed]",
      "text/plain": [
       "plot without title"
      ]
     },
     "metadata": {},
     "output_type": "display_data"
    }
   ],
   "source": [
    "plot(x,y)"
   ]
  },
  {
   "cell_type": "code",
   "execution_count": 8,
   "metadata": {},
   "outputs": [],
   "source": [
    "# y=ax+b\n",
    "# log(p/(1+p))=ax+b"
   ]
  },
  {
   "cell_type": "code",
   "execution_count": null,
   "metadata": {},
   "outputs": [],
   "source": [
    "# 이항분포 : 0-1사이."
   ]
  },
  {
   "cell_type": "code",
   "execution_count": null,
   "metadata": {},
   "outputs": [],
   "source": []
  },
  {
   "cell_type": "code",
   "execution_count": 9,
   "metadata": {},
   "outputs": [],
   "source": [
    "# 이항분포, 이산 확률 분포, ...."
   ]
  },
  {
   "cell_type": "code",
   "execution_count": 13,
   "metadata": {},
   "outputs": [
    {
     "name": "stderr",
     "output_type": "stream",
     "text": [
      "\n",
      "Attaching package: 'dplyr'\n",
      "\n",
      "The following objects are masked from 'package:stats':\n",
      "\n",
      "    filter, lag\n",
      "\n",
      "The following objects are masked from 'package:base':\n",
      "\n",
      "    intersect, setdiff, setequal, union\n",
      "\n"
     ]
    }
   ],
   "source": [
    "library(dplyr)"
   ]
  },
  {
   "cell_type": "code",
   "execution_count": 14,
   "metadata": {},
   "outputs": [
    {
     "name": "stdout",
     "output_type": "stream",
     "text": [
      "Observations: 23\n",
      "Variables: 5\n",
      "$ o_ring_ct   <int> 6, 6, 6, 6, 6, 6, 6, 6, 6, 6, 6, 6, 6, 6, 6, 6, 6, 6, 6...\n",
      "$ distress_ct <int> 0, 1, 0, 0, 0, 0, 0, 0, 1, 1, 1, 0, 0, 2, 0, 0, 0, 0, 0...\n",
      "$ temperature <int> 66, 70, 69, 68, 67, 72, 73, 70, 57, 63, 70, 78, 67, 53,...\n",
      "$ pressure    <int> 50, 50, 50, 50, 50, 50, 100, 100, 200, 200, 200, 200, 2...\n",
      "$ launch_id   <int> 1, 2, 3, 4, 5, 6, 7, 8, 9, 10, 11, 12, 13, 14, 15, 16, ...\n"
     ]
    }
   ],
   "source": [
    "chall <- read.csv(\"https://raw.githubusercontent.com/stedy/Machine-Learning-with-R-datasets/master/challenger.csv\")\n",
    "chall <- tbl_df(chall)\n",
    "glimpse(chall)"
   ]
  },
  {
   "cell_type": "code",
   "execution_count": 15,
   "metadata": {},
   "outputs": [
    {
     "data": {
      "text/plain": [
       "   o_ring_ct  distress_ct      temperature       pressure       launch_id   \n",
       " Min.   :6   Min.   :0.0000   Min.   :53.00   Min.   : 50.0   Min.   : 1.0  \n",
       " 1st Qu.:6   1st Qu.:0.0000   1st Qu.:67.00   1st Qu.: 75.0   1st Qu.: 6.5  \n",
       " Median :6   Median :0.0000   Median :70.00   Median :200.0   Median :12.0  \n",
       " Mean   :6   Mean   :0.3043   Mean   :69.57   Mean   :152.2   Mean   :12.0  \n",
       " 3rd Qu.:6   3rd Qu.:0.5000   3rd Qu.:75.00   3rd Qu.:200.0   3rd Qu.:17.5  \n",
       " Max.   :6   Max.   :2.0000   Max.   :81.00   Max.   :200.0   Max.   :23.0  "
      ]
     },
     "metadata": {},
     "output_type": "display_data"
    }
   ],
   "source": [
    "summary(chall)"
   ]
  },
  {
   "cell_type": "code",
   "execution_count": 21,
   "metadata": {},
   "outputs": [
    {
     "data": {
      "text/html": [
       "<table>\n",
       "<tbody>\n",
       "\t<tr><td>0</td><td>6</td></tr>\n",
       "\t<tr><td>1</td><td>5</td></tr>\n",
       "\t<tr><td>0</td><td>6</td></tr>\n",
       "\t<tr><td>0</td><td>6</td></tr>\n",
       "\t<tr><td>0</td><td>6</td></tr>\n",
       "\t<tr><td>0</td><td>6</td></tr>\n",
       "\t<tr><td>0</td><td>6</td></tr>\n",
       "\t<tr><td>0</td><td>6</td></tr>\n",
       "\t<tr><td>1</td><td>5</td></tr>\n",
       "\t<tr><td>1</td><td>5</td></tr>\n",
       "\t<tr><td>1</td><td>5</td></tr>\n",
       "\t<tr><td>0</td><td>6</td></tr>\n",
       "\t<tr><td>0</td><td>6</td></tr>\n",
       "\t<tr><td>2</td><td>4</td></tr>\n",
       "\t<tr><td>0</td><td>6</td></tr>\n",
       "\t<tr><td>0</td><td>6</td></tr>\n",
       "\t<tr><td>0</td><td>6</td></tr>\n",
       "\t<tr><td>0</td><td>6</td></tr>\n",
       "\t<tr><td>0</td><td>6</td></tr>\n",
       "\t<tr><td>0</td><td>6</td></tr>\n",
       "\t<tr><td>0</td><td>6</td></tr>\n",
       "\t<tr><td>0</td><td>6</td></tr>\n",
       "\t<tr><td>1</td><td>5</td></tr>\n",
       "</tbody>\n",
       "</table>\n"
      ],
      "text/latex": [
       "\\begin{tabular}{ll}\n",
       "\t 0 & 6\\\\\n",
       "\t 1 & 5\\\\\n",
       "\t 0 & 6\\\\\n",
       "\t 0 & 6\\\\\n",
       "\t 0 & 6\\\\\n",
       "\t 0 & 6\\\\\n",
       "\t 0 & 6\\\\\n",
       "\t 0 & 6\\\\\n",
       "\t 1 & 5\\\\\n",
       "\t 1 & 5\\\\\n",
       "\t 1 & 5\\\\\n",
       "\t 0 & 6\\\\\n",
       "\t 0 & 6\\\\\n",
       "\t 2 & 4\\\\\n",
       "\t 0 & 6\\\\\n",
       "\t 0 & 6\\\\\n",
       "\t 0 & 6\\\\\n",
       "\t 0 & 6\\\\\n",
       "\t 0 & 6\\\\\n",
       "\t 0 & 6\\\\\n",
       "\t 0 & 6\\\\\n",
       "\t 0 & 6\\\\\n",
       "\t 1 & 5\\\\\n",
       "\\end{tabular}\n"
      ],
      "text/markdown": [
       "\n",
       "| 0 | 6 | \n",
       "| 1 | 5 | \n",
       "| 0 | 6 | \n",
       "| 0 | 6 | \n",
       "| 0 | 6 | \n",
       "| 0 | 6 | \n",
       "| 0 | 6 | \n",
       "| 0 | 6 | \n",
       "| 1 | 5 | \n",
       "| 1 | 5 | \n",
       "| 1 | 5 | \n",
       "| 0 | 6 | \n",
       "| 0 | 6 | \n",
       "| 2 | 4 | \n",
       "| 0 | 6 | \n",
       "| 0 | 6 | \n",
       "| 0 | 6 | \n",
       "| 0 | 6 | \n",
       "| 0 | 6 | \n",
       "| 0 | 6 | \n",
       "| 0 | 6 | \n",
       "| 0 | 6 | \n",
       "| 1 | 5 | \n",
       "\n",
       "\n"
      ],
      "text/plain": [
       "      [,1] [,2]\n",
       " [1,] 0    6   \n",
       " [2,] 1    5   \n",
       " [3,] 0    6   \n",
       " [4,] 0    6   \n",
       " [5,] 0    6   \n",
       " [6,] 0    6   \n",
       " [7,] 0    6   \n",
       " [8,] 0    6   \n",
       " [9,] 1    5   \n",
       "[10,] 1    5   \n",
       "[11,] 1    5   \n",
       "[12,] 0    6   \n",
       "[13,] 0    6   \n",
       "[14,] 2    4   \n",
       "[15,] 0    6   \n",
       "[16,] 0    6   \n",
       "[17,] 0    6   \n",
       "[18,] 0    6   \n",
       "[19,] 0    6   \n",
       "[20,] 0    6   \n",
       "[21,] 0    6   \n",
       "[22,] 0    6   \n",
       "[23,] 1    5   "
      ]
     },
     "metadata": {},
     "output_type": "display_data"
    }
   ],
   "source": [
    "(cb<-cbind(chall$distress_ct, chall$o_ring_ct -chall$distress_ct))"
   ]
  },
  {
   "cell_type": "code",
   "execution_count": 22,
   "metadata": {},
   "outputs": [
    {
     "data": {
      "text/plain": [
       "\n",
       "Call:  glm(formula = cb ~ temperature, family = \"binomial\", data = chall)\n",
       "\n",
       "Coefficients:\n",
       "(Intercept)  temperature  \n",
       "     8.8169      -0.1795  \n",
       "\n",
       "Degrees of Freedom: 22 Total (i.e. Null);  21 Residual\n",
       "Null Deviance:\t    20.71 \n",
       "Residual Deviance: 9.527 \tAIC: 24.87"
      ]
     },
     "metadata": {},
     "output_type": "display_data"
    }
   ],
   "source": [
    "(glmmo<-glm(cb~temperature, data=chall, family='binomial'))"
   ]
  },
  {
   "cell_type": "code",
   "execution_count": 23,
   "metadata": {},
   "outputs": [
    {
     "data": {
      "text/html": [
       "0.000817973319994447"
      ],
      "text/latex": [
       "0.000817973319994447"
      ],
      "text/markdown": [
       "0.000817973319994447"
      ],
      "text/plain": [
       "[1] 0.0008179733"
      ]
     },
     "metadata": {},
     "output_type": "display_data"
    }
   ],
   "source": [
    "### 카이제곱 분포에서 11.2, 자유도 1 나올 확률\n",
    "1-pchisq(11.2,1)"
   ]
  },
  {
   "cell_type": "code",
   "execution_count": null,
   "metadata": {},
   "outputs": [],
   "source": []
  }
 ],
 "metadata": {
  "kernelspec": {
   "display_name": "R",
   "language": "R",
   "name": "ir"
  },
  "language_info": {
   "codemirror_mode": "r",
   "file_extension": ".r",
   "mimetype": "text/x-r-source",
   "name": "R",
   "pygments_lexer": "r",
   "version": "3.4.3"
  }
 },
 "nbformat": 4,
 "nbformat_minor": 2
}
