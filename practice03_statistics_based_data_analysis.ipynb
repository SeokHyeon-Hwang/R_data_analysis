{
 "cells": [
  {
   "cell_type": "markdown",
   "metadata": {},
   "source": [
    "# Practice03. Statistics-Based Data Analysis"
   ]
  },
  {
   "cell_type": "markdown",
   "metadata": {},
   "source": [
    "## Statistics-based Data Analysis\n",
    "\n",
    "### △Setting a hypothesis\n",
    "\n",
    "### △Developing Big Data Models\n",
    "\n",
    "### △Evaluate and validate models\n",
    "\n",
    "### △Preparing model operation plan"
   ]
  },
  {
   "cell_type": "code",
   "execution_count": 2,
   "metadata": {},
   "outputs": [],
   "source": [
    "df<-read.csv('E:/Bigdata/dataset/diet.csv')"
   ]
  },
  {
   "cell_type": "code",
   "execution_count": 4,
   "metadata": {},
   "outputs": [
    {
     "data": {
      "text/html": [
       "<table>\n",
       "<thead><tr><th scope=col>Subject</th><th scope=col>Before</th><th scope=col>After</th></tr></thead>\n",
       "<tbody>\n",
       "\t<tr><td> 1   </td><td>57.90</td><td>58.31</td></tr>\n",
       "\t<tr><td> 2   </td><td>64.68</td><td>61.27</td></tr>\n",
       "\t<tr><td> 3   </td><td>66.30</td><td>66.43</td></tr>\n",
       "\t<tr><td> 4   </td><td>59.97</td><td>58.39</td></tr>\n",
       "\t<tr><td> 5   </td><td>74.12</td><td>73.71</td></tr>\n",
       "\t<tr><td> 6   </td><td>72.71</td><td>71.72</td></tr>\n",
       "\t<tr><td> 7   </td><td>72.50</td><td>70.59</td></tr>\n",
       "\t<tr><td> 8   </td><td>68.36</td><td>66.83</td></tr>\n",
       "\t<tr><td> 9   </td><td>78.86</td><td>76.84</td></tr>\n",
       "\t<tr><td>10   </td><td>49.24</td><td>48.17</td></tr>\n",
       "</tbody>\n",
       "</table>\n"
      ],
      "text/latex": [
       "\\begin{tabular}{r|lll}\n",
       " Subject & Before & After\\\\\n",
       "\\hline\n",
       "\t  1    & 57.90 & 58.31\\\\\n",
       "\t  2    & 64.68 & 61.27\\\\\n",
       "\t  3    & 66.30 & 66.43\\\\\n",
       "\t  4    & 59.97 & 58.39\\\\\n",
       "\t  5    & 74.12 & 73.71\\\\\n",
       "\t  6    & 72.71 & 71.72\\\\\n",
       "\t  7    & 72.50 & 70.59\\\\\n",
       "\t  8    & 68.36 & 66.83\\\\\n",
       "\t  9    & 78.86 & 76.84\\\\\n",
       "\t 10    & 49.24 & 48.17\\\\\n",
       "\\end{tabular}\n"
      ],
      "text/markdown": [
       "\n",
       "Subject | Before | After | \n",
       "|---|---|---|---|---|---|---|---|---|---|\n",
       "|  1    | 57.90 | 58.31 | \n",
       "|  2    | 64.68 | 61.27 | \n",
       "|  3    | 66.30 | 66.43 | \n",
       "|  4    | 59.97 | 58.39 | \n",
       "|  5    | 74.12 | 73.71 | \n",
       "|  6    | 72.71 | 71.72 | \n",
       "|  7    | 72.50 | 70.59 | \n",
       "|  8    | 68.36 | 66.83 | \n",
       "|  9    | 78.86 | 76.84 | \n",
       "| 10    | 49.24 | 48.17 | \n",
       "\n",
       "\n"
      ],
      "text/plain": [
       "   Subject Before After\n",
       "1   1      57.90  58.31\n",
       "2   2      64.68  61.27\n",
       "3   3      66.30  66.43\n",
       "4   4      59.97  58.39\n",
       "5   5      74.12  73.71\n",
       "6   6      72.71  71.72\n",
       "7   7      72.50  70.59\n",
       "8   8      68.36  66.83\n",
       "9   9      78.86  76.84\n",
       "10 10      49.24  48.17"
      ]
     },
     "metadata": {},
     "output_type": "display_data"
    }
   ],
   "source": [
    "df"
   ]
  },
  {
   "cell_type": "code",
   "execution_count": 6,
   "metadata": {},
   "outputs": [
    {
     "data": {
      "text/html": [
       "<ol class=list-inline>\n",
       "\t<li>-0.410000000000004</li>\n",
       "\t<li>3.41</li>\n",
       "\t<li>-0.13000000000001</li>\n",
       "\t<li>1.58</li>\n",
       "\t<li>0.410000000000011</li>\n",
       "\t<li>0.989999999999995</li>\n",
       "\t<li>1.91</li>\n",
       "\t<li>1.53</li>\n",
       "\t<li>2.02</li>\n",
       "\t<li>1.07</li>\n",
       "</ol>\n"
      ],
      "text/latex": [
       "\\begin{enumerate*}\n",
       "\\item -0.410000000000004\n",
       "\\item 3.41\n",
       "\\item -0.13000000000001\n",
       "\\item 1.58\n",
       "\\item 0.410000000000011\n",
       "\\item 0.989999999999995\n",
       "\\item 1.91\n",
       "\\item 1.53\n",
       "\\item 2.02\n",
       "\\item 1.07\n",
       "\\end{enumerate*}\n"
      ],
      "text/markdown": [
       "1. -0.410000000000004\n",
       "2. 3.41\n",
       "3. -0.13000000000001\n",
       "4. 1.58\n",
       "5. 0.410000000000011\n",
       "6. 0.989999999999995\n",
       "7. 1.91\n",
       "8. 1.53\n",
       "9. 2.02\n",
       "10. 1.07\n",
       "\n",
       "\n"
      ],
      "text/plain": [
       " [1] -0.41  3.41 -0.13  1.58  0.41  0.99  1.91  1.53  2.02  1.07"
      ]
     },
     "metadata": {},
     "output_type": "display_data"
    }
   ],
   "source": [
    "diff<-df$Before-df$After\n",
    "diff"
   ]
  },
  {
   "cell_type": "code",
   "execution_count": 7,
   "metadata": {},
   "outputs": [
    {
     "data": {
      "image/png": "[encoded data removed]",
      "text/plain": [
       "plot without title"
      ]
     },
     "metadata": {},
     "output_type": "display_data"
    }
   ],
   "source": [
    "boxplot(diff)"
   ]
  },
  {
   "cell_type": "code",
   "execution_count": 9,
   "metadata": {},
   "outputs": [
    {
     "data": {
      "text/plain": [
       "\n",
       "\tPaired t-test\n",
       "\n",
       "data:  df$Before and df$After\n",
       "t = 3.4868, df = 9, p-value = 0.006864\n",
       "alternative hypothesis: true difference in means is not equal to 0\n",
       "95 percent confidence interval:\n",
       " 0.434817 2.041183\n",
       "sample estimates:\n",
       "mean of the differences \n",
       "                  1.238 \n"
      ]
     },
     "metadata": {},
     "output_type": "display_data"
    }
   ],
   "source": [
    "t.test(df$Before, df$After, alternative=c('two.sided'), paired=TRUE, conf.level=0.95)"
   ]
  },
  {
   "cell_type": "code",
   "execution_count": 11,
   "metadata": {},
   "outputs": [
    {
     "data": {
      "text/plain": [
       "\n",
       "\tPaired t-test\n",
       "\n",
       "data:  df$Before and df$After\n",
       "t = 3.4868, df = 9, p-value = 0.003432\n",
       "alternative hypothesis: true difference in means is greater than 0\n",
       "95 percent confidence interval:\n",
       " 0.58715     Inf\n",
       "sample estimates:\n",
       "mean of the differences \n",
       "                  1.238 \n"
      ]
     },
     "metadata": {},
     "output_type": "display_data"
    }
   ],
   "source": [
    "t.test(df$Before, df$After, alternative=c('greater'), paired=T, conf.level=0.95)"
   ]
  },
  {
   "cell_type": "code",
   "execution_count": 12,
   "metadata": {},
   "outputs": [
    {
     "data": {
      "text/html": [
       "1.238"
      ],
      "text/latex": [
       "1.238"
      ],
      "text/markdown": [
       "1.238"
      ],
      "text/plain": [
       "[1] 1.238"
      ]
     },
     "metadata": {},
     "output_type": "display_data"
    }
   ],
   "source": [
    "(meandiff<-mean(diff))"
   ]
  },
  {
   "cell_type": "code",
   "execution_count": 13,
   "metadata": {},
   "outputs": [
    {
     "data": {
      "text/html": [
       "1.12277236240379"
      ],
      "text/latex": [
       "1.12277236240379"
      ],
      "text/markdown": [
       "1.12277236240379"
      ],
      "text/plain": [
       "[1] 1.122772"
      ]
     },
     "metadata": {},
     "output_type": "display_data"
    }
   ],
   "source": [
    "(sddiff<-sd(diff))"
   ]
  },
  {
   "cell_type": "code",
   "execution_count": 14,
   "metadata": {},
   "outputs": [
    {
     "data": {
      "text/html": [
       "3.48681520349048"
      ],
      "text/latex": [
       "3.48681520349048"
      ],
      "text/markdown": [
       "3.48681520349048"
      ],
      "text/plain": [
       "[1] 3.486815"
      ]
     },
     "metadata": {},
     "output_type": "display_data"
    }
   ],
   "source": [
    "(tstate<-meandiff/(sddiff/sqrt(length(diff))))"
   ]
  }
 ],
 "metadata": {
  "kernelspec": {
   "display_name": "R",
   "language": "R",
   "name": "ir"
  },
  "language_info": {
   "codemirror_mode": "r",
   "file_extension": ".r",
   "mimetype": "text/x-r-source",
   "name": "R",
   "pygments_lexer": "r",
   "version": "3.4.3"
  }
 },
 "nbformat": 4,
 "nbformat_minor": 2
}
